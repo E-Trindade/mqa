{
  "cells": [
    {
      "cell_type": "markdown",
      "source": [
        "# Análise multivariada - Pokémon Go"
      ],
      "metadata": {}
    },
    {
      "cell_type": "code",
      "source": [
        "library(ggplot2)\n",
        "library(plyr)\n",
        "library(caTools)"
      ],
      "outputs": [],
      "execution_count": 4,
      "metadata": {
        "collapsed": true
      }
    },
    {
      "cell_type": "markdown",
      "source": [
        "## Reading Data"
      ],
      "metadata": {
        "collapsed": false,
        "outputHidden": false,
        "inputHidden": false
      }
    },
    {
      "cell_type": "code",
      "source": [
        "ds = read.csv('300k.csv', nrows=500)"
      ],
      "outputs": [],
      "execution_count": 13,
      "metadata": {
        "collapsed": true
      }
    },
    {
      "cell_type": "markdown",
      "source": [
        "## Cleaning"
      ],
      "metadata": {
        "collapsed": false,
        "outputHidden": false,
        "inputHidden": false
      }
    },
    {
      "cell_type": "markdown",
      "source": [
        "### Continents"
      ],
      "metadata": {
        "collapsed": false,
        "outputHidden": false,
        "inputHidden": false
      }
    },
    {
      "cell_type": "code",
      "source": [
        "levels(ds$continent) = list(\n",
        "                            America=c('America/Argentina','America/Indiana','America/Kentucky'),\n",
        "                            Africa=c('Africa'),\n",
        "                            Asia=c('Asia'),\n",
        "                            Oceania=c('Atlantic', 'Australia'),\n",
        "                            Europe=c('Europe', 'Indian', 'Pacific')\n",
        ")"
      ],
      "outputs": [],
      "execution_count": 15,
      "metadata": {
        "collapsed": true,
        "scrolled": true
      }
    },
    {
      "cell_type": "code",
      "source": [
        "numeric_fields = data[, c(\n",
        "                        'latitude', \n",
        "                       'longitude', \n",
        "                       'temperature', \n",
        "                       'windSpeed', \n",
        "                       'windBearing', \n",
        "                       'pressure', \n",
        "                       'population_density', \n",
        "                       'gymDistanceKm'\n",
        "                     )]\n",
        "# Desvio padrão\n",
        "apply(numeric_fields, 2, sd)"
      ],
      "outputs": [
        {
          "output_type": "display_data",
          "data": {
            "text/html": [
              "<dl class=dl-horizontal>\n",
              "\t<dt>latitude</dt>\n",
              "\t\t<dd>17.0292028107061</dd>\n",
              "\t<dt>longitude</dt>\n",
              "\t\t<dd>67.3983357445463</dd>\n",
              "\t<dt>temperature</dt>\n",
              "\t\t<dd>6.19308905481689</dd>\n",
              "\t<dt>windSpeed</dt>\n",
              "\t\t<dd>4.17510167384398</dd>\n",
              "\t<dt>windBearing</dt>\n",
              "\t\t<dd>99.9422472455277</dd>\n",
              "\t<dt>pressure</dt>\n",
              "\t\t<dd>5.63386052921278</dd>\n",
              "\t<dt>population_density</dt>\n",
              "\t\t<dd>1913.71017482648</dd>\n",
              "\t<dt>gymDistanceKm</dt>\n",
              "\t\t<dd>18.6461464404668</dd>\n",
              "</dl>\n"
            ],
            "text/latex": [
              "\\begin{description*}\n",
              "\\item[latitude] 17.0292028107061\n",
              "\\item[longitude] 67.3983357445463\n",
              "\\item[temperature] 6.19308905481689\n",
              "\\item[windSpeed] 4.17510167384398\n",
              "\\item[windBearing] 99.9422472455277\n",
              "\\item[pressure] 5.63386052921278\n",
              "\\item[population\\textbackslash{}\\_density] 1913.71017482648\n",
              "\\item[gymDistanceKm] 18.6461464404668\n",
              "\\end{description*}\n"
            ],
            "text/markdown": [
              "latitude\n",
              ":   17.0292028107061longitude\n",
              ":   67.3983357445463temperature\n",
              ":   6.19308905481689windSpeed\n",
              ":   4.17510167384398windBearing\n",
              ":   99.9422472455277pressure\n",
              ":   5.63386052921278population_density\n",
              ":   1913.71017482648gymDistanceKm\n",
              ":   18.6461464404668\n",
              "\n"
            ],
            "text/plain": [
              "          latitude          longitude        temperature          windSpeed \n",
              "         17.029203          67.398336           6.193089           4.175102 \n",
              "       windBearing           pressure population_density      gymDistanceKm \n",
              "         99.942247           5.633861        1913.710175          18.646146 "
            ]
          },
          "metadata": {}
        }
      ],
      "execution_count": 6,
      "metadata": {}
    }
  ],
  "metadata": {
    "kernelspec": {
      "name": "ir",
      "language": "R",
      "display_name": "R"
    },
    "language_info": {
      "name": "R",
      "codemirror_mode": "r",
      "pygments_lexer": "r",
      "mimetype": "text/x-r-source",
      "file_extension": ".r",
      "version": "3.4.2"
    },
    "kernel_info": {
      "name": "ir"
    },
    "nteract": {
      "version": "0.3.4"
    }
  },
  "nbformat": 4,
  "nbformat_minor": 2
}